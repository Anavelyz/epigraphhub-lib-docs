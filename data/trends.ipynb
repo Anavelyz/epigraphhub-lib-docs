{
 "cells": [
  {
   "cell_type": "markdown",
   "metadata": {
    "pycharm": {
     "name": "#%% md\n"
    }
   },
   "source": [
    "# Downloading Google Trends Data (Python version)\n",
    "Google trends data can be quite usefull to understand behavioral differences in response to a public health risk, particulary when it comes to gauging the perception of such risk.\n",
    "\n",
    "The ggtrends module from Epigraphhub returns the results as convenient pandas dataframes."
   ]
  },
  {
   "cell_type": "code",
   "execution_count": 1,
   "metadata": {
    "ExecuteTime": {
     "end_time": "2022-04-21T07:53:54.006924Z",
     "start_time": "2022-04-21T07:53:53.830787Z"
    },
    "pycharm": {
     "name": "#%%\n"
    }
   },
   "outputs": [],
   "source": [
    "from epigraphhub.data.ggtrends import (\n",
    "    historical_interest,\n",
    "    interest_by_region,\n",
    "    interest_over_time,\n",
    ")\n",
    "import pandas as pd\n",
    "pd.options.plotting.backend = \"plotly\"\n",
    "import warnings\n",
    "warnings.filterwarnings('ignore')\n"
   ]
  },
  {
   "cell_type": "markdown",
   "metadata": {
    "pycharm": {
     "name": "#%% md\n"
    }
   },
   "source": [
    "Let's try a first search by region."
   ]
  },
  {
   "cell_type": "code",
   "execution_count": 2,
   "metadata": {
    "ExecuteTime": {
     "end_time": "2022-04-21T07:53:58.206929Z",
     "start_time": "2022-04-21T07:53:57.102865Z"
    },
    "pycharm": {
     "name": "#%%\n"
    }
   },
   "outputs": [
    {
     "data": {
      "text/html": [
       "<div>\n",
       "<style scoped>\n",
       "    .dataframe tbody tr th:only-of-type {\n",
       "        vertical-align: middle;\n",
       "    }\n",
       "\n",
       "    .dataframe tbody tr th {\n",
       "        vertical-align: top;\n",
       "    }\n",
       "\n",
       "    .dataframe thead th {\n",
       "        text-align: right;\n",
       "    }\n",
       "</style>\n",
       "<table border=\"1\" class=\"dataframe\">\n",
       "  <thead>\n",
       "    <tr style=\"text-align: right;\">\n",
       "      <th></th>\n",
       "      <th>geoCode</th>\n",
       "      <th>covid</th>\n",
       "      <th>vaccine</th>\n",
       "    </tr>\n",
       "    <tr>\n",
       "      <th>geoName</th>\n",
       "      <th></th>\n",
       "      <th></th>\n",
       "      <th></th>\n",
       "    </tr>\n",
       "  </thead>\n",
       "  <tbody>\n",
       "    <tr>\n",
       "      <th>Afghanistan</th>\n",
       "      <td>AF</td>\n",
       "      <td>65</td>\n",
       "      <td>35</td>\n",
       "    </tr>\n",
       "    <tr>\n",
       "      <th>Albania</th>\n",
       "      <td>AL</td>\n",
       "      <td>85</td>\n",
       "      <td>15</td>\n",
       "    </tr>\n",
       "    <tr>\n",
       "      <th>Algeria</th>\n",
       "      <td>DZ</td>\n",
       "      <td>97</td>\n",
       "      <td>3</td>\n",
       "    </tr>\n",
       "    <tr>\n",
       "      <th>American Samoa</th>\n",
       "      <td>AS</td>\n",
       "      <td>79</td>\n",
       "      <td>21</td>\n",
       "    </tr>\n",
       "    <tr>\n",
       "      <th>Andorra</th>\n",
       "      <td>AD</td>\n",
       "      <td>98</td>\n",
       "      <td>2</td>\n",
       "    </tr>\n",
       "    <tr>\n",
       "      <th>...</th>\n",
       "      <td>...</td>\n",
       "      <td>...</td>\n",
       "      <td>...</td>\n",
       "    </tr>\n",
       "    <tr>\n",
       "      <th>Western Sahara</th>\n",
       "      <td>EH</td>\n",
       "      <td>93</td>\n",
       "      <td>7</td>\n",
       "    </tr>\n",
       "    <tr>\n",
       "      <th>Yemen</th>\n",
       "      <td>YE</td>\n",
       "      <td>62</td>\n",
       "      <td>38</td>\n",
       "    </tr>\n",
       "    <tr>\n",
       "      <th>Zambia</th>\n",
       "      <td>ZM</td>\n",
       "      <td>74</td>\n",
       "      <td>26</td>\n",
       "    </tr>\n",
       "    <tr>\n",
       "      <th>Zimbabwe</th>\n",
       "      <td>ZW</td>\n",
       "      <td>84</td>\n",
       "      <td>16</td>\n",
       "    </tr>\n",
       "    <tr>\n",
       "      <th>Åland Islands</th>\n",
       "      <td>AX</td>\n",
       "      <td>86</td>\n",
       "      <td>14</td>\n",
       "    </tr>\n",
       "  </tbody>\n",
       "</table>\n",
       "<p>250 rows × 3 columns</p>\n",
       "</div>"
      ],
      "text/plain": [
       "               geoCode  covid  vaccine\n",
       "geoName                               \n",
       "Afghanistan         AF     65       35\n",
       "Albania             AL     85       15\n",
       "Algeria             DZ     97        3\n",
       "American Samoa      AS     79       21\n",
       "Andorra             AD     98        2\n",
       "...                ...    ...      ...\n",
       "Western Sahara      EH     93        7\n",
       "Yemen               YE     62       38\n",
       "Zambia              ZM     74       26\n",
       "Zimbabwe            ZW     84       16\n",
       "Åland Islands       AX     86       14\n",
       "\n",
       "[250 rows x 3 columns]"
      ]
     },
     "execution_count": 2,
     "metadata": {},
     "output_type": "execute_result"
    }
   ],
   "source": [
    "keywords = [\"covid\", \"vaccine\"]\n",
    "interest_by_region(keywords)"
   ]
  },
  {
   "cell_type": "markdown",
   "source": [
    "## Fetching time-series \n",
    "We can get the interest overtime for a specific geographic location, using the country 2-letter ISO code. In example for Brasil, we also remind you that you have to translate the keywords to the local language.\n",
    "\n",
    "The `interest_over_time` function will get you by default one year long series.\n",
    "\n",
    "Numbers represent search interest relative to the highest point on the chart for the given region and time. A value of 100 is the peak popularity for the term. A value of 50 means that the term is half as popular. A score of 0 means there was not enough data for this term."
   ],
   "metadata": {
    "collapsed": false,
    "pycharm": {
     "name": "#%% md\n"
    }
   }
  },
  {
   "cell_type": "code",
   "execution_count": null,
   "outputs": [],
   "source": [
    "iot_BR = interest_over_time([\"covid\", \"vaccine\", \"vacina\"], geo='BR')\n",
    "iot_BR"
   ],
   "metadata": {
    "collapsed": false,
    "pycharm": {
     "name": "#%%\n"
    }
   }
  },
  {
   "cell_type": "code",
   "execution_count": null,
   "outputs": [],
   "source": [
    "iot_BR[[\"covid\", \"vaccine\", \"vacina\"]].plot(labels=dict(index=\"time\", value=\"Popularity\", variable=\"Terms\"))"
   ],
   "metadata": {
    "collapsed": false,
    "pycharm": {
     "name": "#%%\n"
    }
   }
  },
  {
   "cell_type": "markdown",
   "source": [
    "You can also drill down to subregions, and different timeframes. Below we show the same search for the state of Ceará in Brazil, from March 2020 to April 2022."
   ],
   "metadata": {
    "collapsed": false,
    "pycharm": {
     "name": "#%% md\n"
    }
   }
  },
  {
   "cell_type": "code",
   "execution_count": null,
   "outputs": [],
   "source": [
    "iot_BR_CE = interest_over_time([\"covid\", \"vaccine\", \"vacina\"], geo='BR-CE', timeframe='2022-03-17 2022-04-17')\n",
    "iot_BR_CE[[\"covid\", \"vaccine\", \"vacina\"]].plot(labels={'index':\"time\", 'value':\"Popularity\", 'variable':\"Terms\"})"
   ],
   "metadata": {
    "collapsed": false,
    "pycharm": {
     "name": "#%%\n"
    }
   }
  },
  {
   "cell_type": "markdown",
   "metadata": {
    "pycharm": {
     "name": "#%% md\n"
    }
   },
   "source": [
    "With the `historical_interest` function we can get hourly results on a time window of a maximum of one week"
   ]
  },
  {
   "cell_type": "code",
   "execution_count": 6,
   "metadata": {
    "ExecuteTime": {
     "end_time": "2022-04-21T07:54:28.336979Z",
     "start_time": "2022-04-21T07:54:27.130885Z"
    },
    "pycharm": {
     "name": "#%%\n"
    }
   },
   "outputs": [
    {
     "data": {
      "application/vnd.plotly.v1+json": {
       "config": {
        "plotlyServerURL": "https://plot.ly"
       },
       "data": [
        {
         "hovertemplate": "variable=covid<br>date=%{x}<br>value=%{y}<extra></extra>",
         "legendgroup": "covid",
         "line": {
          "color": "#636efa",
          "dash": "solid"
         },
         "marker": {
          "symbol": "circle"
         },
         "mode": "lines",
         "name": "covid",
         "orientation": "v",
         "showlegend": true,
         "type": "scatter",
         "x": [
          "2022-01-10T00:00:00",
          "2022-01-10T01:00:00",
          "2022-01-10T02:00:00",
          "2022-01-10T03:00:00",
          "2022-01-10T04:00:00",
          "2022-01-10T05:00:00",
          "2022-01-10T06:00:00",
          "2022-01-10T07:00:00",
          "2022-01-10T08:00:00",
          "2022-01-10T09:00:00",
          "2022-01-10T10:00:00",
          "2022-01-10T11:00:00",
          "2022-01-10T12:00:00",
          "2022-01-10T13:00:00",
          "2022-01-10T14:00:00",
          "2022-01-10T15:00:00",
          "2022-01-10T16:00:00",
          "2022-01-10T17:00:00",
          "2022-01-10T18:00:00",
          "2022-01-10T19:00:00",
          "2022-01-10T20:00:00",
          "2022-01-10T21:00:00",
          "2022-01-10T22:00:00",
          "2022-01-10T23:00:00",
          "2022-01-11T00:00:00",
          "2022-01-11T01:00:00",
          "2022-01-11T02:00:00",
          "2022-01-11T03:00:00",
          "2022-01-11T04:00:00",
          "2022-01-11T05:00:00",
          "2022-01-11T06:00:00",
          "2022-01-11T07:00:00",
          "2022-01-11T08:00:00",
          "2022-01-11T09:00:00",
          "2022-01-11T10:00:00",
          "2022-01-11T11:00:00",
          "2022-01-11T12:00:00",
          "2022-01-11T13:00:00",
          "2022-01-11T14:00:00",
          "2022-01-11T15:00:00",
          "2022-01-11T16:00:00",
          "2022-01-11T17:00:00",
          "2022-01-11T18:00:00",
          "2022-01-11T19:00:00",
          "2022-01-11T20:00:00",
          "2022-01-11T21:00:00",
          "2022-01-11T22:00:00",
          "2022-01-11T23:00:00",
          "2022-01-12T00:00:00",
          "2022-01-12T01:00:00",
          "2022-01-12T02:00:00",
          "2022-01-12T03:00:00",
          "2022-01-12T04:00:00",
          "2022-01-12T05:00:00",
          "2022-01-12T06:00:00",
          "2022-01-12T07:00:00",
          "2022-01-12T08:00:00",
          "2022-01-12T09:00:00",
          "2022-01-12T10:00:00",
          "2022-01-12T11:00:00",
          "2022-01-12T12:00:00",
          "2022-01-12T13:00:00",
          "2022-01-12T14:00:00",
          "2022-01-12T15:00:00",
          "2022-01-12T16:00:00",
          "2022-01-12T17:00:00",
          "2022-01-12T18:00:00",
          "2022-01-12T19:00:00",
          "2022-01-12T20:00:00",
          "2022-01-12T21:00:00",
          "2022-01-12T22:00:00",
          "2022-01-12T23:00:00",
          "2022-01-13T00:00:00",
          "2022-01-13T01:00:00",
          "2022-01-13T02:00:00",
          "2022-01-13T03:00:00",
          "2022-01-13T04:00:00",
          "2022-01-13T05:00:00",
          "2022-01-13T06:00:00",
          "2022-01-13T07:00:00",
          "2022-01-13T08:00:00",
          "2022-01-13T09:00:00",
          "2022-01-13T10:00:00",
          "2022-01-13T11:00:00",
          "2022-01-13T12:00:00",
          "2022-01-13T13:00:00",
          "2022-01-13T14:00:00",
          "2022-01-13T15:00:00",
          "2022-01-13T16:00:00",
          "2022-01-13T17:00:00",
          "2022-01-13T18:00:00",
          "2022-01-13T19:00:00",
          "2022-01-13T20:00:00",
          "2022-01-13T21:00:00",
          "2022-01-13T22:00:00",
          "2022-01-13T23:00:00",
          "2022-01-14T00:00:00",
          "2022-01-14T01:00:00",
          "2022-01-14T02:00:00",
          "2022-01-14T03:00:00",
          "2022-01-14T04:00:00",
          "2022-01-14T05:00:00",
          "2022-01-14T06:00:00",
          "2022-01-14T07:00:00",
          "2022-01-14T08:00:00",
          "2022-01-14T09:00:00",
          "2022-01-14T10:00:00",
          "2022-01-14T11:00:00",
          "2022-01-14T12:00:00",
          "2022-01-14T13:00:00",
          "2022-01-14T14:00:00",
          "2022-01-14T15:00:00",
          "2022-01-14T16:00:00",
          "2022-01-14T17:00:00",
          "2022-01-14T18:00:00",
          "2022-01-14T19:00:00",
          "2022-01-14T20:00:00",
          "2022-01-14T21:00:00",
          "2022-01-14T22:00:00",
          "2022-01-14T23:00:00",
          "2022-01-15T00:00:00",
          "2022-01-15T01:00:00",
          "2022-01-15T02:00:00",
          "2022-01-15T03:00:00",
          "2022-01-15T04:00:00",
          "2022-01-15T05:00:00",
          "2022-01-15T06:00:00",
          "2022-01-15T07:00:00",
          "2022-01-15T08:00:00",
          "2022-01-15T09:00:00",
          "2022-01-15T10:00:00",
          "2022-01-15T11:00:00",
          "2022-01-15T12:00:00",
          "2022-01-15T13:00:00",
          "2022-01-15T14:00:00",
          "2022-01-15T15:00:00",
          "2022-01-15T16:00:00",
          "2022-01-15T17:00:00",
          "2022-01-15T18:00:00",
          "2022-01-15T19:00:00",
          "2022-01-15T20:00:00",
          "2022-01-15T21:00:00",
          "2022-01-15T22:00:00",
          "2022-01-15T23:00:00",
          "2022-01-16T00:00:00",
          "2022-01-16T01:00:00",
          "2022-01-16T02:00:00",
          "2022-01-16T03:00:00",
          "2022-01-16T04:00:00",
          "2022-01-16T05:00:00",
          "2022-01-16T06:00:00",
          "2022-01-16T07:00:00",
          "2022-01-16T08:00:00",
          "2022-01-16T09:00:00",
          "2022-01-16T10:00:00",
          "2022-01-16T11:00:00",
          "2022-01-16T12:00:00",
          "2022-01-16T13:00:00",
          "2022-01-16T14:00:00",
          "2022-01-16T15:00:00",
          "2022-01-16T16:00:00",
          "2022-01-16T17:00:00",
          "2022-01-16T18:00:00",
          "2022-01-16T19:00:00",
          "2022-01-16T20:00:00",
          "2022-01-16T21:00:00",
          "2022-01-16T22:00:00",
          "2022-01-16T23:00:00",
          "2022-01-17T00:00:00",
          "2022-01-17T00:00:00"
         ],
         "xaxis": "x",
         "y": [
          51,
          44,
          42,
          40,
          49,
          38,
          40,
          44,
          58,
          67,
          61,
          68,
          68,
          57,
          62,
          65,
          60,
          58,
          50,
          57,
          58,
          60,
          67,
          59,
          63,
          48,
          55,
          52,
          54,
          37,
          39,
          63,
          66,
          75,
          78,
          77,
          66,
          68,
          74,
          74,
          68,
          58,
          56,
          60,
          56,
          64,
          70,
          58,
          62,
          54,
          56,
          48,
          49,
          47,
          42,
          53,
          68,
          83,
          87,
          72,
          73,
          70,
          74,
          79,
          75,
          61,
          59,
          63,
          60,
          71,
          73,
          68,
          70,
          61,
          62,
          64,
          51,
          49,
          48,
          100,
          77,
          85,
          91,
          89,
          74,
          69,
          76,
          79,
          69,
          58,
          61,
          66,
          65,
          70,
          78,
          78,
          70,
          63,
          57,
          59,
          58,
          55,
          57,
          73,
          64,
          90,
          91,
          82,
          78,
          76,
          81,
          81,
          79,
          64,
          62,
          63,
          72,
          76,
          79,
          76,
          63,
          63,
          56,
          49,
          66,
          52,
          62,
          63,
          67,
          72,
          87,
          85,
          86,
          88,
          78,
          81,
          75,
          64,
          64,
          59,
          59,
          60,
          64,
          66,
          59,
          53,
          49,
          50,
          51,
          42,
          56,
          46,
          65,
          64,
          73,
          78,
          84,
          72,
          66,
          62,
          62,
          57,
          53,
          56,
          55,
          56,
          55,
          56,
          55,
          34
         ],
         "yaxis": "y"
        },
        {
         "hovertemplate": "variable=vacina<br>date=%{x}<br>value=%{y}<extra></extra>",
         "legendgroup": "vacina",
         "line": {
          "color": "#EF553B",
          "dash": "solid"
         },
         "marker": {
          "symbol": "circle"
         },
         "mode": "lines",
         "name": "vacina",
         "orientation": "v",
         "showlegend": true,
         "type": "scatter",
         "x": [
          "2022-01-10T00:00:00",
          "2022-01-10T01:00:00",
          "2022-01-10T02:00:00",
          "2022-01-10T03:00:00",
          "2022-01-10T04:00:00",
          "2022-01-10T05:00:00",
          "2022-01-10T06:00:00",
          "2022-01-10T07:00:00",
          "2022-01-10T08:00:00",
          "2022-01-10T09:00:00",
          "2022-01-10T10:00:00",
          "2022-01-10T11:00:00",
          "2022-01-10T12:00:00",
          "2022-01-10T13:00:00",
          "2022-01-10T14:00:00",
          "2022-01-10T15:00:00",
          "2022-01-10T16:00:00",
          "2022-01-10T17:00:00",
          "2022-01-10T18:00:00",
          "2022-01-10T19:00:00",
          "2022-01-10T20:00:00",
          "2022-01-10T21:00:00",
          "2022-01-10T22:00:00",
          "2022-01-10T23:00:00",
          "2022-01-11T00:00:00",
          "2022-01-11T01:00:00",
          "2022-01-11T02:00:00",
          "2022-01-11T03:00:00",
          "2022-01-11T04:00:00",
          "2022-01-11T05:00:00",
          "2022-01-11T06:00:00",
          "2022-01-11T07:00:00",
          "2022-01-11T08:00:00",
          "2022-01-11T09:00:00",
          "2022-01-11T10:00:00",
          "2022-01-11T11:00:00",
          "2022-01-11T12:00:00",
          "2022-01-11T13:00:00",
          "2022-01-11T14:00:00",
          "2022-01-11T15:00:00",
          "2022-01-11T16:00:00",
          "2022-01-11T17:00:00",
          "2022-01-11T18:00:00",
          "2022-01-11T19:00:00",
          "2022-01-11T20:00:00",
          "2022-01-11T21:00:00",
          "2022-01-11T22:00:00",
          "2022-01-11T23:00:00",
          "2022-01-12T00:00:00",
          "2022-01-12T01:00:00",
          "2022-01-12T02:00:00",
          "2022-01-12T03:00:00",
          "2022-01-12T04:00:00",
          "2022-01-12T05:00:00",
          "2022-01-12T06:00:00",
          "2022-01-12T07:00:00",
          "2022-01-12T08:00:00",
          "2022-01-12T09:00:00",
          "2022-01-12T10:00:00",
          "2022-01-12T11:00:00",
          "2022-01-12T12:00:00",
          "2022-01-12T13:00:00",
          "2022-01-12T14:00:00",
          "2022-01-12T15:00:00",
          "2022-01-12T16:00:00",
          "2022-01-12T17:00:00",
          "2022-01-12T18:00:00",
          "2022-01-12T19:00:00",
          "2022-01-12T20:00:00",
          "2022-01-12T21:00:00",
          "2022-01-12T22:00:00",
          "2022-01-12T23:00:00",
          "2022-01-13T00:00:00",
          "2022-01-13T01:00:00",
          "2022-01-13T02:00:00",
          "2022-01-13T03:00:00",
          "2022-01-13T04:00:00",
          "2022-01-13T05:00:00",
          "2022-01-13T06:00:00",
          "2022-01-13T07:00:00",
          "2022-01-13T08:00:00",
          "2022-01-13T09:00:00",
          "2022-01-13T10:00:00",
          "2022-01-13T11:00:00",
          "2022-01-13T12:00:00",
          "2022-01-13T13:00:00",
          "2022-01-13T14:00:00",
          "2022-01-13T15:00:00",
          "2022-01-13T16:00:00",
          "2022-01-13T17:00:00",
          "2022-01-13T18:00:00",
          "2022-01-13T19:00:00",
          "2022-01-13T20:00:00",
          "2022-01-13T21:00:00",
          "2022-01-13T22:00:00",
          "2022-01-13T23:00:00",
          "2022-01-14T00:00:00",
          "2022-01-14T01:00:00",
          "2022-01-14T02:00:00",
          "2022-01-14T03:00:00",
          "2022-01-14T04:00:00",
          "2022-01-14T05:00:00",
          "2022-01-14T06:00:00",
          "2022-01-14T07:00:00",
          "2022-01-14T08:00:00",
          "2022-01-14T09:00:00",
          "2022-01-14T10:00:00",
          "2022-01-14T11:00:00",
          "2022-01-14T12:00:00",
          "2022-01-14T13:00:00",
          "2022-01-14T14:00:00",
          "2022-01-14T15:00:00",
          "2022-01-14T16:00:00",
          "2022-01-14T17:00:00",
          "2022-01-14T18:00:00",
          "2022-01-14T19:00:00",
          "2022-01-14T20:00:00",
          "2022-01-14T21:00:00",
          "2022-01-14T22:00:00",
          "2022-01-14T23:00:00",
          "2022-01-15T00:00:00",
          "2022-01-15T01:00:00",
          "2022-01-15T02:00:00",
          "2022-01-15T03:00:00",
          "2022-01-15T04:00:00",
          "2022-01-15T05:00:00",
          "2022-01-15T06:00:00",
          "2022-01-15T07:00:00",
          "2022-01-15T08:00:00",
          "2022-01-15T09:00:00",
          "2022-01-15T10:00:00",
          "2022-01-15T11:00:00",
          "2022-01-15T12:00:00",
          "2022-01-15T13:00:00",
          "2022-01-15T14:00:00",
          "2022-01-15T15:00:00",
          "2022-01-15T16:00:00",
          "2022-01-15T17:00:00",
          "2022-01-15T18:00:00",
          "2022-01-15T19:00:00",
          "2022-01-15T20:00:00",
          "2022-01-15T21:00:00",
          "2022-01-15T22:00:00",
          "2022-01-15T23:00:00",
          "2022-01-16T00:00:00",
          "2022-01-16T01:00:00",
          "2022-01-16T02:00:00",
          "2022-01-16T03:00:00",
          "2022-01-16T04:00:00",
          "2022-01-16T05:00:00",
          "2022-01-16T06:00:00",
          "2022-01-16T07:00:00",
          "2022-01-16T08:00:00",
          "2022-01-16T09:00:00",
          "2022-01-16T10:00:00",
          "2022-01-16T11:00:00",
          "2022-01-16T12:00:00",
          "2022-01-16T13:00:00",
          "2022-01-16T14:00:00",
          "2022-01-16T15:00:00",
          "2022-01-16T16:00:00",
          "2022-01-16T17:00:00",
          "2022-01-16T18:00:00",
          "2022-01-16T19:00:00",
          "2022-01-16T20:00:00",
          "2022-01-16T21:00:00",
          "2022-01-16T22:00:00",
          "2022-01-16T23:00:00",
          "2022-01-17T00:00:00",
          "2022-01-17T00:00:00"
         ],
         "xaxis": "x",
         "y": [
          18,
          21,
          14,
          15,
          14,
          10,
          11,
          9,
          20,
          26,
          31,
          32,
          28,
          28,
          28,
          33,
          29,
          26,
          22,
          24,
          22,
          24,
          30,
          24,
          27,
          21,
          19,
          19,
          15,
          12,
          16,
          15,
          23,
          24,
          36,
          38,
          28,
          30,
          30,
          34,
          32,
          26,
          21,
          21,
          24,
          25,
          26,
          24,
          23,
          24,
          21,
          20,
          14,
          11,
          14,
          10,
          21,
          26,
          40,
          29,
          29,
          29,
          26,
          32,
          37,
          27,
          29,
          28,
          31,
          32,
          37,
          30,
          28,
          26,
          22,
          18,
          20,
          15,
          14,
          29,
          28,
          42,
          36,
          42,
          37,
          31,
          33,
          38,
          39,
          27,
          24,
          29,
          26,
          31,
          35,
          37,
          27,
          25,
          21,
          20,
          14,
          21,
          19,
          23,
          26,
          35,
          42,
          39,
          32,
          30,
          32,
          40,
          37,
          29,
          30,
          26,
          28,
          28,
          43,
          38,
          27,
          22,
          21,
          22,
          19,
          13,
          21,
          19,
          21,
          32,
          38,
          35,
          31,
          35,
          28,
          36,
          35,
          28,
          21,
          23,
          23,
          19,
          29,
          28,
          20,
          18,
          18,
          16,
          14,
          9,
          22,
          13,
          25,
          26,
          21,
          25,
          26,
          23,
          17,
          23,
          25,
          21,
          19,
          16,
          17,
          17,
          23,
          18,
          24,
          15
         ],
         "yaxis": "y"
        }
       ],
       "layout": {
        "legend": {
         "title": {
          "text": "variable"
         },
         "tracegroupgap": 0
        },
        "margin": {
         "t": 60
        },
        "template": {
         "data": {
          "bar": [
           {
            "error_x": {
             "color": "#2a3f5f"
            },
            "error_y": {
             "color": "#2a3f5f"
            },
            "marker": {
             "line": {
              "color": "#E5ECF6",
              "width": 0.5
             },
             "pattern": {
              "fillmode": "overlay",
              "size": 10,
              "solidity": 0.2
             }
            },
            "type": "bar"
           }
          ],
          "barpolar": [
           {
            "marker": {
             "line": {
              "color": "#E5ECF6",
              "width": 0.5
             },
             "pattern": {
              "fillmode": "overlay",
              "size": 10,
              "solidity": 0.2
             }
            },
            "type": "barpolar"
           }
          ],
          "carpet": [
           {
            "aaxis": {
             "endlinecolor": "#2a3f5f",
             "gridcolor": "white",
             "linecolor": "white",
             "minorgridcolor": "white",
             "startlinecolor": "#2a3f5f"
            },
            "baxis": {
             "endlinecolor": "#2a3f5f",
             "gridcolor": "white",
             "linecolor": "white",
             "minorgridcolor": "white",
             "startlinecolor": "#2a3f5f"
            },
            "type": "carpet"
           }
          ],
          "choropleth": [
           {
            "colorbar": {
             "outlinewidth": 0,
             "ticks": ""
            },
            "type": "choropleth"
           }
          ],
          "contour": [
           {
            "colorbar": {
             "outlinewidth": 0,
             "ticks": ""
            },
            "colorscale": [
             [
              0,
              "#0d0887"
             ],
             [
              0.1111111111111111,
              "#46039f"
             ],
             [
              0.2222222222222222,
              "#7201a8"
             ],
             [
              0.3333333333333333,
              "#9c179e"
             ],
             [
              0.4444444444444444,
              "#bd3786"
             ],
             [
              0.5555555555555556,
              "#d8576b"
             ],
             [
              0.6666666666666666,
              "#ed7953"
             ],
             [
              0.7777777777777778,
              "#fb9f3a"
             ],
             [
              0.8888888888888888,
              "#fdca26"
             ],
             [
              1,
              "#f0f921"
             ]
            ],
            "type": "contour"
           }
          ],
          "contourcarpet": [
           {
            "colorbar": {
             "outlinewidth": 0,
             "ticks": ""
            },
            "type": "contourcarpet"
           }
          ],
          "heatmap": [
           {
            "colorbar": {
             "outlinewidth": 0,
             "ticks": ""
            },
            "colorscale": [
             [
              0,
              "#0d0887"
             ],
             [
              0.1111111111111111,
              "#46039f"
             ],
             [
              0.2222222222222222,
              "#7201a8"
             ],
             [
              0.3333333333333333,
              "#9c179e"
             ],
             [
              0.4444444444444444,
              "#bd3786"
             ],
             [
              0.5555555555555556,
              "#d8576b"
             ],
             [
              0.6666666666666666,
              "#ed7953"
             ],
             [
              0.7777777777777778,
              "#fb9f3a"
             ],
             [
              0.8888888888888888,
              "#fdca26"
             ],
             [
              1,
              "#f0f921"
             ]
            ],
            "type": "heatmap"
           }
          ],
          "heatmapgl": [
           {
            "colorbar": {
             "outlinewidth": 0,
             "ticks": ""
            },
            "colorscale": [
             [
              0,
              "#0d0887"
             ],
             [
              0.1111111111111111,
              "#46039f"
             ],
             [
              0.2222222222222222,
              "#7201a8"
             ],
             [
              0.3333333333333333,
              "#9c179e"
             ],
             [
              0.4444444444444444,
              "#bd3786"
             ],
             [
              0.5555555555555556,
              "#d8576b"
             ],
             [
              0.6666666666666666,
              "#ed7953"
             ],
             [
              0.7777777777777778,
              "#fb9f3a"
             ],
             [
              0.8888888888888888,
              "#fdca26"
             ],
             [
              1,
              "#f0f921"
             ]
            ],
            "type": "heatmapgl"
           }
          ],
          "histogram": [
           {
            "marker": {
             "pattern": {
              "fillmode": "overlay",
              "size": 10,
              "solidity": 0.2
             }
            },
            "type": "histogram"
           }
          ],
          "histogram2d": [
           {
            "colorbar": {
             "outlinewidth": 0,
             "ticks": ""
            },
            "colorscale": [
             [
              0,
              "#0d0887"
             ],
             [
              0.1111111111111111,
              "#46039f"
             ],
             [
              0.2222222222222222,
              "#7201a8"
             ],
             [
              0.3333333333333333,
              "#9c179e"
             ],
             [
              0.4444444444444444,
              "#bd3786"
             ],
             [
              0.5555555555555556,
              "#d8576b"
             ],
             [
              0.6666666666666666,
              "#ed7953"
             ],
             [
              0.7777777777777778,
              "#fb9f3a"
             ],
             [
              0.8888888888888888,
              "#fdca26"
             ],
             [
              1,
              "#f0f921"
             ]
            ],
            "type": "histogram2d"
           }
          ],
          "histogram2dcontour": [
           {
            "colorbar": {
             "outlinewidth": 0,
             "ticks": ""
            },
            "colorscale": [
             [
              0,
              "#0d0887"
             ],
             [
              0.1111111111111111,
              "#46039f"
             ],
             [
              0.2222222222222222,
              "#7201a8"
             ],
             [
              0.3333333333333333,
              "#9c179e"
             ],
             [
              0.4444444444444444,
              "#bd3786"
             ],
             [
              0.5555555555555556,
              "#d8576b"
             ],
             [
              0.6666666666666666,
              "#ed7953"
             ],
             [
              0.7777777777777778,
              "#fb9f3a"
             ],
             [
              0.8888888888888888,
              "#fdca26"
             ],
             [
              1,
              "#f0f921"
             ]
            ],
            "type": "histogram2dcontour"
           }
          ],
          "mesh3d": [
           {
            "colorbar": {
             "outlinewidth": 0,
             "ticks": ""
            },
            "type": "mesh3d"
           }
          ],
          "parcoords": [
           {
            "line": {
             "colorbar": {
              "outlinewidth": 0,
              "ticks": ""
             }
            },
            "type": "parcoords"
           }
          ],
          "pie": [
           {
            "automargin": true,
            "type": "pie"
           }
          ],
          "scatter": [
           {
            "fillpattern": {
             "fillmode": "overlay",
             "size": 10,
             "solidity": 0.2
            },
            "type": "scatter"
           }
          ],
          "scatter3d": [
           {
            "line": {
             "colorbar": {
              "outlinewidth": 0,
              "ticks": ""
             }
            },
            "marker": {
             "colorbar": {
              "outlinewidth": 0,
              "ticks": ""
             }
            },
            "type": "scatter3d"
           }
          ],
          "scattercarpet": [
           {
            "marker": {
             "colorbar": {
              "outlinewidth": 0,
              "ticks": ""
             }
            },
            "type": "scattercarpet"
           }
          ],
          "scattergeo": [
           {
            "marker": {
             "colorbar": {
              "outlinewidth": 0,
              "ticks": ""
             }
            },
            "type": "scattergeo"
           }
          ],
          "scattergl": [
           {
            "marker": {
             "colorbar": {
              "outlinewidth": 0,
              "ticks": ""
             }
            },
            "type": "scattergl"
           }
          ],
          "scattermapbox": [
           {
            "marker": {
             "colorbar": {
              "outlinewidth": 0,
              "ticks": ""
             }
            },
            "type": "scattermapbox"
           }
          ],
          "scatterpolar": [
           {
            "marker": {
             "colorbar": {
              "outlinewidth": 0,
              "ticks": ""
             }
            },
            "type": "scatterpolar"
           }
          ],
          "scatterpolargl": [
           {
            "marker": {
             "colorbar": {
              "outlinewidth": 0,
              "ticks": ""
             }
            },
            "type": "scatterpolargl"
           }
          ],
          "scatterternary": [
           {
            "marker": {
             "colorbar": {
              "outlinewidth": 0,
              "ticks": ""
             }
            },
            "type": "scatterternary"
           }
          ],
          "surface": [
           {
            "colorbar": {
             "outlinewidth": 0,
             "ticks": ""
            },
            "colorscale": [
             [
              0,
              "#0d0887"
             ],
             [
              0.1111111111111111,
              "#46039f"
             ],
             [
              0.2222222222222222,
              "#7201a8"
             ],
             [
              0.3333333333333333,
              "#9c179e"
             ],
             [
              0.4444444444444444,
              "#bd3786"
             ],
             [
              0.5555555555555556,
              "#d8576b"
             ],
             [
              0.6666666666666666,
              "#ed7953"
             ],
             [
              0.7777777777777778,
              "#fb9f3a"
             ],
             [
              0.8888888888888888,
              "#fdca26"
             ],
             [
              1,
              "#f0f921"
             ]
            ],
            "type": "surface"
           }
          ],
          "table": [
           {
            "cells": {
             "fill": {
              "color": "#EBF0F8"
             },
             "line": {
              "color": "white"
             }
            },
            "header": {
             "fill": {
              "color": "#C8D4E3"
             },
             "line": {
              "color": "white"
             }
            },
            "type": "table"
           }
          ]
         },
         "layout": {
          "annotationdefaults": {
           "arrowcolor": "#2a3f5f",
           "arrowhead": 0,
           "arrowwidth": 1
          },
          "autotypenumbers": "strict",
          "coloraxis": {
           "colorbar": {
            "outlinewidth": 0,
            "ticks": ""
           }
          },
          "colorscale": {
           "diverging": [
            [
             0,
             "#8e0152"
            ],
            [
             0.1,
             "#c51b7d"
            ],
            [
             0.2,
             "#de77ae"
            ],
            [
             0.3,
             "#f1b6da"
            ],
            [
             0.4,
             "#fde0ef"
            ],
            [
             0.5,
             "#f7f7f7"
            ],
            [
             0.6,
             "#e6f5d0"
            ],
            [
             0.7,
             "#b8e186"
            ],
            [
             0.8,
             "#7fbc41"
            ],
            [
             0.9,
             "#4d9221"
            ],
            [
             1,
             "#276419"
            ]
           ],
           "sequential": [
            [
             0,
             "#0d0887"
            ],
            [
             0.1111111111111111,
             "#46039f"
            ],
            [
             0.2222222222222222,
             "#7201a8"
            ],
            [
             0.3333333333333333,
             "#9c179e"
            ],
            [
             0.4444444444444444,
             "#bd3786"
            ],
            [
             0.5555555555555556,
             "#d8576b"
            ],
            [
             0.6666666666666666,
             "#ed7953"
            ],
            [
             0.7777777777777778,
             "#fb9f3a"
            ],
            [
             0.8888888888888888,
             "#fdca26"
            ],
            [
             1,
             "#f0f921"
            ]
           ],
           "sequentialminus": [
            [
             0,
             "#0d0887"
            ],
            [
             0.1111111111111111,
             "#46039f"
            ],
            [
             0.2222222222222222,
             "#7201a8"
            ],
            [
             0.3333333333333333,
             "#9c179e"
            ],
            [
             0.4444444444444444,
             "#bd3786"
            ],
            [
             0.5555555555555556,
             "#d8576b"
            ],
            [
             0.6666666666666666,
             "#ed7953"
            ],
            [
             0.7777777777777778,
             "#fb9f3a"
            ],
            [
             0.8888888888888888,
             "#fdca26"
            ],
            [
             1,
             "#f0f921"
            ]
           ]
          },
          "colorway": [
           "#636efa",
           "#EF553B",
           "#00cc96",
           "#ab63fa",
           "#FFA15A",
           "#19d3f3",
           "#FF6692",
           "#B6E880",
           "#FF97FF",
           "#FECB52"
          ],
          "font": {
           "color": "#2a3f5f"
          },
          "geo": {
           "bgcolor": "white",
           "lakecolor": "white",
           "landcolor": "#E5ECF6",
           "showlakes": true,
           "showland": true,
           "subunitcolor": "white"
          },
          "hoverlabel": {
           "align": "left"
          },
          "hovermode": "closest",
          "mapbox": {
           "style": "light"
          },
          "paper_bgcolor": "white",
          "plot_bgcolor": "#E5ECF6",
          "polar": {
           "angularaxis": {
            "gridcolor": "white",
            "linecolor": "white",
            "ticks": ""
           },
           "bgcolor": "#E5ECF6",
           "radialaxis": {
            "gridcolor": "white",
            "linecolor": "white",
            "ticks": ""
           }
          },
          "scene": {
           "xaxis": {
            "backgroundcolor": "#E5ECF6",
            "gridcolor": "white",
            "gridwidth": 2,
            "linecolor": "white",
            "showbackground": true,
            "ticks": "",
            "zerolinecolor": "white"
           },
           "yaxis": {
            "backgroundcolor": "#E5ECF6",
            "gridcolor": "white",
            "gridwidth": 2,
            "linecolor": "white",
            "showbackground": true,
            "ticks": "",
            "zerolinecolor": "white"
           },
           "zaxis": {
            "backgroundcolor": "#E5ECF6",
            "gridcolor": "white",
            "gridwidth": 2,
            "linecolor": "white",
            "showbackground": true,
            "ticks": "",
            "zerolinecolor": "white"
           }
          },
          "shapedefaults": {
           "line": {
            "color": "#2a3f5f"
           }
          },
          "ternary": {
           "aaxis": {
            "gridcolor": "white",
            "linecolor": "white",
            "ticks": ""
           },
           "baxis": {
            "gridcolor": "white",
            "linecolor": "white",
            "ticks": ""
           },
           "bgcolor": "#E5ECF6",
           "caxis": {
            "gridcolor": "white",
            "linecolor": "white",
            "ticks": ""
           }
          },
          "title": {
           "x": 0.05
          },
          "xaxis": {
           "automargin": true,
           "gridcolor": "white",
           "linecolor": "white",
           "ticks": "",
           "title": {
            "standoff": 15
           },
           "zerolinecolor": "white",
           "zerolinewidth": 2
          },
          "yaxis": {
           "automargin": true,
           "gridcolor": "white",
           "linecolor": "white",
           "ticks": "",
           "title": {
            "standoff": 15
           },
           "zerolinecolor": "white",
           "zerolinewidth": 2
          }
         }
        },
        "xaxis": {
         "anchor": "y",
         "domain": [
          0,
          1
         ],
         "title": {
          "text": "date"
         }
        },
        "yaxis": {
         "anchor": "x",
         "domain": [
          0,
          1
         ],
         "title": {
          "text": "value"
         }
        }
       }
      },
      "text/html": [
       "<div>                            <div id=\"24df827f-dfed-4340-9203-b33aa26524a3\" class=\"plotly-graph-div\" style=\"height:525px; width:100%;\"></div>            <script type=\"text/javascript\">                require([\"plotly\"], function(Plotly) {                    window.PLOTLYENV=window.PLOTLYENV || {};                                    if (document.getElementById(\"24df827f-dfed-4340-9203-b33aa26524a3\")) {                    Plotly.newPlot(                        \"24df827f-dfed-4340-9203-b33aa26524a3\",                        [{\"hovertemplate\":\"variable=covid<br>date=%{x}<br>value=%{y}<extra></extra>\",\"legendgroup\":\"covid\",\"line\":{\"color\":\"#636efa\",\"dash\":\"solid\"},\"marker\":{\"symbol\":\"circle\"},\"mode\":\"lines\",\"name\":\"covid\",\"orientation\":\"v\",\"showlegend\":true,\"x\":[\"2022-01-10T00:00:00\",\"2022-01-10T01:00:00\",\"2022-01-10T02:00:00\",\"2022-01-10T03:00:00\",\"2022-01-10T04:00:00\",\"2022-01-10T05:00:00\",\"2022-01-10T06:00:00\",\"2022-01-10T07:00:00\",\"2022-01-10T08:00:00\",\"2022-01-10T09:00:00\",\"2022-01-10T10:00:00\",\"2022-01-10T11:00:00\",\"2022-01-10T12:00:00\",\"2022-01-10T13:00:00\",\"2022-01-10T14:00:00\",\"2022-01-10T15:00:00\",\"2022-01-10T16:00:00\",\"2022-01-10T17:00:00\",\"2022-01-10T18:00:00\",\"2022-01-10T19:00:00\",\"2022-01-10T20:00:00\",\"2022-01-10T21:00:00\",\"2022-01-10T22:00:00\",\"2022-01-10T23:00:00\",\"2022-01-11T00:00:00\",\"2022-01-11T01:00:00\",\"2022-01-11T02:00:00\",\"2022-01-11T03:00:00\",\"2022-01-11T04:00:00\",\"2022-01-11T05:00:00\",\"2022-01-11T06:00:00\",\"2022-01-11T07:00:00\",\"2022-01-11T08:00:00\",\"2022-01-11T09:00:00\",\"2022-01-11T10:00:00\",\"2022-01-11T11:00:00\",\"2022-01-11T12:00:00\",\"2022-01-11T13:00:00\",\"2022-01-11T14:00:00\",\"2022-01-11T15:00:00\",\"2022-01-11T16:00:00\",\"2022-01-11T17:00:00\",\"2022-01-11T18:00:00\",\"2022-01-11T19:00:00\",\"2022-01-11T20:00:00\",\"2022-01-11T21:00:00\",\"2022-01-11T22:00:00\",\"2022-01-11T23:00:00\",\"2022-01-12T00:00:00\",\"2022-01-12T01:00:00\",\"2022-01-12T02:00:00\",\"2022-01-12T03:00:00\",\"2022-01-12T04:00:00\",\"2022-01-12T05:00:00\",\"2022-01-12T06:00:00\",\"2022-01-12T07:00:00\",\"2022-01-12T08:00:00\",\"2022-01-12T09:00:00\",\"2022-01-12T10:00:00\",\"2022-01-12T11:00:00\",\"2022-01-12T12:00:00\",\"2022-01-12T13:00:00\",\"2022-01-12T14:00:00\",\"2022-01-12T15:00:00\",\"2022-01-12T16:00:00\",\"2022-01-12T17:00:00\",\"2022-01-12T18:00:00\",\"2022-01-12T19:00:00\",\"2022-01-12T20:00:00\",\"2022-01-12T21:00:00\",\"2022-01-12T22:00:00\",\"2022-01-12T23:00:00\",\"2022-01-13T00:00:00\",\"2022-01-13T01:00:00\",\"2022-01-13T02:00:00\",\"2022-01-13T03:00:00\",\"2022-01-13T04:00:00\",\"2022-01-13T05:00:00\",\"2022-01-13T06:00:00\",\"2022-01-13T07:00:00\",\"2022-01-13T08:00:00\",\"2022-01-13T09:00:00\",\"2022-01-13T10:00:00\",\"2022-01-13T11:00:00\",\"2022-01-13T12:00:00\",\"2022-01-13T13:00:00\",\"2022-01-13T14:00:00\",\"2022-01-13T15:00:00\",\"2022-01-13T16:00:00\",\"2022-01-13T17:00:00\",\"2022-01-13T18:00:00\",\"2022-01-13T19:00:00\",\"2022-01-13T20:00:00\",\"2022-01-13T21:00:00\",\"2022-01-13T22:00:00\",\"2022-01-13T23:00:00\",\"2022-01-14T00:00:00\",\"2022-01-14T01:00:00\",\"2022-01-14T02:00:00\",\"2022-01-14T03:00:00\",\"2022-01-14T04:00:00\",\"2022-01-14T05:00:00\",\"2022-01-14T06:00:00\",\"2022-01-14T07:00:00\",\"2022-01-14T08:00:00\",\"2022-01-14T09:00:00\",\"2022-01-14T10:00:00\",\"2022-01-14T11:00:00\",\"2022-01-14T12:00:00\",\"2022-01-14T13:00:00\",\"2022-01-14T14:00:00\",\"2022-01-14T15:00:00\",\"2022-01-14T16:00:00\",\"2022-01-14T17:00:00\",\"2022-01-14T18:00:00\",\"2022-01-14T19:00:00\",\"2022-01-14T20:00:00\",\"2022-01-14T21:00:00\",\"2022-01-14T22:00:00\",\"2022-01-14T23:00:00\",\"2022-01-15T00:00:00\",\"2022-01-15T01:00:00\",\"2022-01-15T02:00:00\",\"2022-01-15T03:00:00\",\"2022-01-15T04:00:00\",\"2022-01-15T05:00:00\",\"2022-01-15T06:00:00\",\"2022-01-15T07:00:00\",\"2022-01-15T08:00:00\",\"2022-01-15T09:00:00\",\"2022-01-15T10:00:00\",\"2022-01-15T11:00:00\",\"2022-01-15T12:00:00\",\"2022-01-15T13:00:00\",\"2022-01-15T14:00:00\",\"2022-01-15T15:00:00\",\"2022-01-15T16:00:00\",\"2022-01-15T17:00:00\",\"2022-01-15T18:00:00\",\"2022-01-15T19:00:00\",\"2022-01-15T20:00:00\",\"2022-01-15T21:00:00\",\"2022-01-15T22:00:00\",\"2022-01-15T23:00:00\",\"2022-01-16T00:00:00\",\"2022-01-16T01:00:00\",\"2022-01-16T02:00:00\",\"2022-01-16T03:00:00\",\"2022-01-16T04:00:00\",\"2022-01-16T05:00:00\",\"2022-01-16T06:00:00\",\"2022-01-16T07:00:00\",\"2022-01-16T08:00:00\",\"2022-01-16T09:00:00\",\"2022-01-16T10:00:00\",\"2022-01-16T11:00:00\",\"2022-01-16T12:00:00\",\"2022-01-16T13:00:00\",\"2022-01-16T14:00:00\",\"2022-01-16T15:00:00\",\"2022-01-16T16:00:00\",\"2022-01-16T17:00:00\",\"2022-01-16T18:00:00\",\"2022-01-16T19:00:00\",\"2022-01-16T20:00:00\",\"2022-01-16T21:00:00\",\"2022-01-16T22:00:00\",\"2022-01-16T23:00:00\",\"2022-01-17T00:00:00\",\"2022-01-17T00:00:00\"],\"xaxis\":\"x\",\"y\":[51,44,42,40,49,38,40,44,58,67,61,68,68,57,62,65,60,58,50,57,58,60,67,59,63,48,55,52,54,37,39,63,66,75,78,77,66,68,74,74,68,58,56,60,56,64,70,58,62,54,56,48,49,47,42,53,68,83,87,72,73,70,74,79,75,61,59,63,60,71,73,68,70,61,62,64,51,49,48,100,77,85,91,89,74,69,76,79,69,58,61,66,65,70,78,78,70,63,57,59,58,55,57,73,64,90,91,82,78,76,81,81,79,64,62,63,72,76,79,76,63,63,56,49,66,52,62,63,67,72,87,85,86,88,78,81,75,64,64,59,59,60,64,66,59,53,49,50,51,42,56,46,65,64,73,78,84,72,66,62,62,57,53,56,55,56,55,56,55,34],\"yaxis\":\"y\",\"type\":\"scatter\"},{\"hovertemplate\":\"variable=vacina<br>date=%{x}<br>value=%{y}<extra></extra>\",\"legendgroup\":\"vacina\",\"line\":{\"color\":\"#EF553B\",\"dash\":\"solid\"},\"marker\":{\"symbol\":\"circle\"},\"mode\":\"lines\",\"name\":\"vacina\",\"orientation\":\"v\",\"showlegend\":true,\"x\":[\"2022-01-10T00:00:00\",\"2022-01-10T01:00:00\",\"2022-01-10T02:00:00\",\"2022-01-10T03:00:00\",\"2022-01-10T04:00:00\",\"2022-01-10T05:00:00\",\"2022-01-10T06:00:00\",\"2022-01-10T07:00:00\",\"2022-01-10T08:00:00\",\"2022-01-10T09:00:00\",\"2022-01-10T10:00:00\",\"2022-01-10T11:00:00\",\"2022-01-10T12:00:00\",\"2022-01-10T13:00:00\",\"2022-01-10T14:00:00\",\"2022-01-10T15:00:00\",\"2022-01-10T16:00:00\",\"2022-01-10T17:00:00\",\"2022-01-10T18:00:00\",\"2022-01-10T19:00:00\",\"2022-01-10T20:00:00\",\"2022-01-10T21:00:00\",\"2022-01-10T22:00:00\",\"2022-01-10T23:00:00\",\"2022-01-11T00:00:00\",\"2022-01-11T01:00:00\",\"2022-01-11T02:00:00\",\"2022-01-11T03:00:00\",\"2022-01-11T04:00:00\",\"2022-01-11T05:00:00\",\"2022-01-11T06:00:00\",\"2022-01-11T07:00:00\",\"2022-01-11T08:00:00\",\"2022-01-11T09:00:00\",\"2022-01-11T10:00:00\",\"2022-01-11T11:00:00\",\"2022-01-11T12:00:00\",\"2022-01-11T13:00:00\",\"2022-01-11T14:00:00\",\"2022-01-11T15:00:00\",\"2022-01-11T16:00:00\",\"2022-01-11T17:00:00\",\"2022-01-11T18:00:00\",\"2022-01-11T19:00:00\",\"2022-01-11T20:00:00\",\"2022-01-11T21:00:00\",\"2022-01-11T22:00:00\",\"2022-01-11T23:00:00\",\"2022-01-12T00:00:00\",\"2022-01-12T01:00:00\",\"2022-01-12T02:00:00\",\"2022-01-12T03:00:00\",\"2022-01-12T04:00:00\",\"2022-01-12T05:00:00\",\"2022-01-12T06:00:00\",\"2022-01-12T07:00:00\",\"2022-01-12T08:00:00\",\"2022-01-12T09:00:00\",\"2022-01-12T10:00:00\",\"2022-01-12T11:00:00\",\"2022-01-12T12:00:00\",\"2022-01-12T13:00:00\",\"2022-01-12T14:00:00\",\"2022-01-12T15:00:00\",\"2022-01-12T16:00:00\",\"2022-01-12T17:00:00\",\"2022-01-12T18:00:00\",\"2022-01-12T19:00:00\",\"2022-01-12T20:00:00\",\"2022-01-12T21:00:00\",\"2022-01-12T22:00:00\",\"2022-01-12T23:00:00\",\"2022-01-13T00:00:00\",\"2022-01-13T01:00:00\",\"2022-01-13T02:00:00\",\"2022-01-13T03:00:00\",\"2022-01-13T04:00:00\",\"2022-01-13T05:00:00\",\"2022-01-13T06:00:00\",\"2022-01-13T07:00:00\",\"2022-01-13T08:00:00\",\"2022-01-13T09:00:00\",\"2022-01-13T10:00:00\",\"2022-01-13T11:00:00\",\"2022-01-13T12:00:00\",\"2022-01-13T13:00:00\",\"2022-01-13T14:00:00\",\"2022-01-13T15:00:00\",\"2022-01-13T16:00:00\",\"2022-01-13T17:00:00\",\"2022-01-13T18:00:00\",\"2022-01-13T19:00:00\",\"2022-01-13T20:00:00\",\"2022-01-13T21:00:00\",\"2022-01-13T22:00:00\",\"2022-01-13T23:00:00\",\"2022-01-14T00:00:00\",\"2022-01-14T01:00:00\",\"2022-01-14T02:00:00\",\"2022-01-14T03:00:00\",\"2022-01-14T04:00:00\",\"2022-01-14T05:00:00\",\"2022-01-14T06:00:00\",\"2022-01-14T07:00:00\",\"2022-01-14T08:00:00\",\"2022-01-14T09:00:00\",\"2022-01-14T10:00:00\",\"2022-01-14T11:00:00\",\"2022-01-14T12:00:00\",\"2022-01-14T13:00:00\",\"2022-01-14T14:00:00\",\"2022-01-14T15:00:00\",\"2022-01-14T16:00:00\",\"2022-01-14T17:00:00\",\"2022-01-14T18:00:00\",\"2022-01-14T19:00:00\",\"2022-01-14T20:00:00\",\"2022-01-14T21:00:00\",\"2022-01-14T22:00:00\",\"2022-01-14T23:00:00\",\"2022-01-15T00:00:00\",\"2022-01-15T01:00:00\",\"2022-01-15T02:00:00\",\"2022-01-15T03:00:00\",\"2022-01-15T04:00:00\",\"2022-01-15T05:00:00\",\"2022-01-15T06:00:00\",\"2022-01-15T07:00:00\",\"2022-01-15T08:00:00\",\"2022-01-15T09:00:00\",\"2022-01-15T10:00:00\",\"2022-01-15T11:00:00\",\"2022-01-15T12:00:00\",\"2022-01-15T13:00:00\",\"2022-01-15T14:00:00\",\"2022-01-15T15:00:00\",\"2022-01-15T16:00:00\",\"2022-01-15T17:00:00\",\"2022-01-15T18:00:00\",\"2022-01-15T19:00:00\",\"2022-01-15T20:00:00\",\"2022-01-15T21:00:00\",\"2022-01-15T22:00:00\",\"2022-01-15T23:00:00\",\"2022-01-16T00:00:00\",\"2022-01-16T01:00:00\",\"2022-01-16T02:00:00\",\"2022-01-16T03:00:00\",\"2022-01-16T04:00:00\",\"2022-01-16T05:00:00\",\"2022-01-16T06:00:00\",\"2022-01-16T07:00:00\",\"2022-01-16T08:00:00\",\"2022-01-16T09:00:00\",\"2022-01-16T10:00:00\",\"2022-01-16T11:00:00\",\"2022-01-16T12:00:00\",\"2022-01-16T13:00:00\",\"2022-01-16T14:00:00\",\"2022-01-16T15:00:00\",\"2022-01-16T16:00:00\",\"2022-01-16T17:00:00\",\"2022-01-16T18:00:00\",\"2022-01-16T19:00:00\",\"2022-01-16T20:00:00\",\"2022-01-16T21:00:00\",\"2022-01-16T22:00:00\",\"2022-01-16T23:00:00\",\"2022-01-17T00:00:00\",\"2022-01-17T00:00:00\"],\"xaxis\":\"x\",\"y\":[18,21,14,15,14,10,11,9,20,26,31,32,28,28,28,33,29,26,22,24,22,24,30,24,27,21,19,19,15,12,16,15,23,24,36,38,28,30,30,34,32,26,21,21,24,25,26,24,23,24,21,20,14,11,14,10,21,26,40,29,29,29,26,32,37,27,29,28,31,32,37,30,28,26,22,18,20,15,14,29,28,42,36,42,37,31,33,38,39,27,24,29,26,31,35,37,27,25,21,20,14,21,19,23,26,35,42,39,32,30,32,40,37,29,30,26,28,28,43,38,27,22,21,22,19,13,21,19,21,32,38,35,31,35,28,36,35,28,21,23,23,19,29,28,20,18,18,16,14,9,22,13,25,26,21,25,26,23,17,23,25,21,19,16,17,17,23,18,24,15],\"yaxis\":\"y\",\"type\":\"scatter\"}],                        {\"template\":{\"data\":{\"histogram2dcontour\":[{\"type\":\"histogram2dcontour\",\"colorbar\":{\"outlinewidth\":0,\"ticks\":\"\"},\"colorscale\":[[0.0,\"#0d0887\"],[0.1111111111111111,\"#46039f\"],[0.2222222222222222,\"#7201a8\"],[0.3333333333333333,\"#9c179e\"],[0.4444444444444444,\"#bd3786\"],[0.5555555555555556,\"#d8576b\"],[0.6666666666666666,\"#ed7953\"],[0.7777777777777778,\"#fb9f3a\"],[0.8888888888888888,\"#fdca26\"],[1.0,\"#f0f921\"]]}],\"choropleth\":[{\"type\":\"choropleth\",\"colorbar\":{\"outlinewidth\":0,\"ticks\":\"\"}}],\"histogram2d\":[{\"type\":\"histogram2d\",\"colorbar\":{\"outlinewidth\":0,\"ticks\":\"\"},\"colorscale\":[[0.0,\"#0d0887\"],[0.1111111111111111,\"#46039f\"],[0.2222222222222222,\"#7201a8\"],[0.3333333333333333,\"#9c179e\"],[0.4444444444444444,\"#bd3786\"],[0.5555555555555556,\"#d8576b\"],[0.6666666666666666,\"#ed7953\"],[0.7777777777777778,\"#fb9f3a\"],[0.8888888888888888,\"#fdca26\"],[1.0,\"#f0f921\"]]}],\"heatmap\":[{\"type\":\"heatmap\",\"colorbar\":{\"outlinewidth\":0,\"ticks\":\"\"},\"colorscale\":[[0.0,\"#0d0887\"],[0.1111111111111111,\"#46039f\"],[0.2222222222222222,\"#7201a8\"],[0.3333333333333333,\"#9c179e\"],[0.4444444444444444,\"#bd3786\"],[0.5555555555555556,\"#d8576b\"],[0.6666666666666666,\"#ed7953\"],[0.7777777777777778,\"#fb9f3a\"],[0.8888888888888888,\"#fdca26\"],[1.0,\"#f0f921\"]]}],\"heatmapgl\":[{\"type\":\"heatmapgl\",\"colorbar\":{\"outlinewidth\":0,\"ticks\":\"\"},\"colorscale\":[[0.0,\"#0d0887\"],[0.1111111111111111,\"#46039f\"],[0.2222222222222222,\"#7201a8\"],[0.3333333333333333,\"#9c179e\"],[0.4444444444444444,\"#bd3786\"],[0.5555555555555556,\"#d8576b\"],[0.6666666666666666,\"#ed7953\"],[0.7777777777777778,\"#fb9f3a\"],[0.8888888888888888,\"#fdca26\"],[1.0,\"#f0f921\"]]}],\"contourcarpet\":[{\"type\":\"contourcarpet\",\"colorbar\":{\"outlinewidth\":0,\"ticks\":\"\"}}],\"contour\":[{\"type\":\"contour\",\"colorbar\":{\"outlinewidth\":0,\"ticks\":\"\"},\"colorscale\":[[0.0,\"#0d0887\"],[0.1111111111111111,\"#46039f\"],[0.2222222222222222,\"#7201a8\"],[0.3333333333333333,\"#9c179e\"],[0.4444444444444444,\"#bd3786\"],[0.5555555555555556,\"#d8576b\"],[0.6666666666666666,\"#ed7953\"],[0.7777777777777778,\"#fb9f3a\"],[0.8888888888888888,\"#fdca26\"],[1.0,\"#f0f921\"]]}],\"surface\":[{\"type\":\"surface\",\"colorbar\":{\"outlinewidth\":0,\"ticks\":\"\"},\"colorscale\":[[0.0,\"#0d0887\"],[0.1111111111111111,\"#46039f\"],[0.2222222222222222,\"#7201a8\"],[0.3333333333333333,\"#9c179e\"],[0.4444444444444444,\"#bd3786\"],[0.5555555555555556,\"#d8576b\"],[0.6666666666666666,\"#ed7953\"],[0.7777777777777778,\"#fb9f3a\"],[0.8888888888888888,\"#fdca26\"],[1.0,\"#f0f921\"]]}],\"mesh3d\":[{\"type\":\"mesh3d\",\"colorbar\":{\"outlinewidth\":0,\"ticks\":\"\"}}],\"scatter\":[{\"fillpattern\":{\"fillmode\":\"overlay\",\"size\":10,\"solidity\":0.2},\"type\":\"scatter\"}],\"parcoords\":[{\"type\":\"parcoords\",\"line\":{\"colorbar\":{\"outlinewidth\":0,\"ticks\":\"\"}}}],\"scatterpolargl\":[{\"type\":\"scatterpolargl\",\"marker\":{\"colorbar\":{\"outlinewidth\":0,\"ticks\":\"\"}}}],\"bar\":[{\"error_x\":{\"color\":\"#2a3f5f\"},\"error_y\":{\"color\":\"#2a3f5f\"},\"marker\":{\"line\":{\"color\":\"#E5ECF6\",\"width\":0.5},\"pattern\":{\"fillmode\":\"overlay\",\"size\":10,\"solidity\":0.2}},\"type\":\"bar\"}],\"scattergeo\":[{\"type\":\"scattergeo\",\"marker\":{\"colorbar\":{\"outlinewidth\":0,\"ticks\":\"\"}}}],\"scatterpolar\":[{\"type\":\"scatterpolar\",\"marker\":{\"colorbar\":{\"outlinewidth\":0,\"ticks\":\"\"}}}],\"histogram\":[{\"marker\":{\"pattern\":{\"fillmode\":\"overlay\",\"size\":10,\"solidity\":0.2}},\"type\":\"histogram\"}],\"scattergl\":[{\"type\":\"scattergl\",\"marker\":{\"colorbar\":{\"outlinewidth\":0,\"ticks\":\"\"}}}],\"scatter3d\":[{\"type\":\"scatter3d\",\"line\":{\"colorbar\":{\"outlinewidth\":0,\"ticks\":\"\"}},\"marker\":{\"colorbar\":{\"outlinewidth\":0,\"ticks\":\"\"}}}],\"scattermapbox\":[{\"type\":\"scattermapbox\",\"marker\":{\"colorbar\":{\"outlinewidth\":0,\"ticks\":\"\"}}}],\"scatterternary\":[{\"type\":\"scatterternary\",\"marker\":{\"colorbar\":{\"outlinewidth\":0,\"ticks\":\"\"}}}],\"scattercarpet\":[{\"type\":\"scattercarpet\",\"marker\":{\"colorbar\":{\"outlinewidth\":0,\"ticks\":\"\"}}}],\"carpet\":[{\"aaxis\":{\"endlinecolor\":\"#2a3f5f\",\"gridcolor\":\"white\",\"linecolor\":\"white\",\"minorgridcolor\":\"white\",\"startlinecolor\":\"#2a3f5f\"},\"baxis\":{\"endlinecolor\":\"#2a3f5f\",\"gridcolor\":\"white\",\"linecolor\":\"white\",\"minorgridcolor\":\"white\",\"startlinecolor\":\"#2a3f5f\"},\"type\":\"carpet\"}],\"table\":[{\"cells\":{\"fill\":{\"color\":\"#EBF0F8\"},\"line\":{\"color\":\"white\"}},\"header\":{\"fill\":{\"color\":\"#C8D4E3\"},\"line\":{\"color\":\"white\"}},\"type\":\"table\"}],\"barpolar\":[{\"marker\":{\"line\":{\"color\":\"#E5ECF6\",\"width\":0.5},\"pattern\":{\"fillmode\":\"overlay\",\"size\":10,\"solidity\":0.2}},\"type\":\"barpolar\"}],\"pie\":[{\"automargin\":true,\"type\":\"pie\"}]},\"layout\":{\"autotypenumbers\":\"strict\",\"colorway\":[\"#636efa\",\"#EF553B\",\"#00cc96\",\"#ab63fa\",\"#FFA15A\",\"#19d3f3\",\"#FF6692\",\"#B6E880\",\"#FF97FF\",\"#FECB52\"],\"font\":{\"color\":\"#2a3f5f\"},\"hovermode\":\"closest\",\"hoverlabel\":{\"align\":\"left\"},\"paper_bgcolor\":\"white\",\"plot_bgcolor\":\"#E5ECF6\",\"polar\":{\"bgcolor\":\"#E5ECF6\",\"angularaxis\":{\"gridcolor\":\"white\",\"linecolor\":\"white\",\"ticks\":\"\"},\"radialaxis\":{\"gridcolor\":\"white\",\"linecolor\":\"white\",\"ticks\":\"\"}},\"ternary\":{\"bgcolor\":\"#E5ECF6\",\"aaxis\":{\"gridcolor\":\"white\",\"linecolor\":\"white\",\"ticks\":\"\"},\"baxis\":{\"gridcolor\":\"white\",\"linecolor\":\"white\",\"ticks\":\"\"},\"caxis\":{\"gridcolor\":\"white\",\"linecolor\":\"white\",\"ticks\":\"\"}},\"coloraxis\":{\"colorbar\":{\"outlinewidth\":0,\"ticks\":\"\"}},\"colorscale\":{\"sequential\":[[0.0,\"#0d0887\"],[0.1111111111111111,\"#46039f\"],[0.2222222222222222,\"#7201a8\"],[0.3333333333333333,\"#9c179e\"],[0.4444444444444444,\"#bd3786\"],[0.5555555555555556,\"#d8576b\"],[0.6666666666666666,\"#ed7953\"],[0.7777777777777778,\"#fb9f3a\"],[0.8888888888888888,\"#fdca26\"],[1.0,\"#f0f921\"]],\"sequentialminus\":[[0.0,\"#0d0887\"],[0.1111111111111111,\"#46039f\"],[0.2222222222222222,\"#7201a8\"],[0.3333333333333333,\"#9c179e\"],[0.4444444444444444,\"#bd3786\"],[0.5555555555555556,\"#d8576b\"],[0.6666666666666666,\"#ed7953\"],[0.7777777777777778,\"#fb9f3a\"],[0.8888888888888888,\"#fdca26\"],[1.0,\"#f0f921\"]],\"diverging\":[[0,\"#8e0152\"],[0.1,\"#c51b7d\"],[0.2,\"#de77ae\"],[0.3,\"#f1b6da\"],[0.4,\"#fde0ef\"],[0.5,\"#f7f7f7\"],[0.6,\"#e6f5d0\"],[0.7,\"#b8e186\"],[0.8,\"#7fbc41\"],[0.9,\"#4d9221\"],[1,\"#276419\"]]},\"xaxis\":{\"gridcolor\":\"white\",\"linecolor\":\"white\",\"ticks\":\"\",\"title\":{\"standoff\":15},\"zerolinecolor\":\"white\",\"automargin\":true,\"zerolinewidth\":2},\"yaxis\":{\"gridcolor\":\"white\",\"linecolor\":\"white\",\"ticks\":\"\",\"title\":{\"standoff\":15},\"zerolinecolor\":\"white\",\"automargin\":true,\"zerolinewidth\":2},\"scene\":{\"xaxis\":{\"backgroundcolor\":\"#E5ECF6\",\"gridcolor\":\"white\",\"linecolor\":\"white\",\"showbackground\":true,\"ticks\":\"\",\"zerolinecolor\":\"white\",\"gridwidth\":2},\"yaxis\":{\"backgroundcolor\":\"#E5ECF6\",\"gridcolor\":\"white\",\"linecolor\":\"white\",\"showbackground\":true,\"ticks\":\"\",\"zerolinecolor\":\"white\",\"gridwidth\":2},\"zaxis\":{\"backgroundcolor\":\"#E5ECF6\",\"gridcolor\":\"white\",\"linecolor\":\"white\",\"showbackground\":true,\"ticks\":\"\",\"zerolinecolor\":\"white\",\"gridwidth\":2}},\"shapedefaults\":{\"line\":{\"color\":\"#2a3f5f\"}},\"annotationdefaults\":{\"arrowcolor\":\"#2a3f5f\",\"arrowhead\":0,\"arrowwidth\":1},\"geo\":{\"bgcolor\":\"white\",\"landcolor\":\"#E5ECF6\",\"subunitcolor\":\"white\",\"showland\":true,\"showlakes\":true,\"lakecolor\":\"white\"},\"title\":{\"x\":0.05},\"mapbox\":{\"style\":\"light\"}}},\"xaxis\":{\"anchor\":\"y\",\"domain\":[0.0,1.0],\"title\":{\"text\":\"date\"}},\"yaxis\":{\"anchor\":\"x\",\"domain\":[0.0,1.0],\"title\":{\"text\":\"value\"}},\"legend\":{\"title\":{\"text\":\"variable\"},\"tracegroupgap\":0},\"margin\":{\"t\":60}},                        {\"responsive\": true}                    ).then(function(){\n",
       "                            \n",
       "var gd = document.getElementById('24df827f-dfed-4340-9203-b33aa26524a3');\n",
       "var x = new MutationObserver(function (mutations, observer) {{\n",
       "        var display = window.getComputedStyle(gd).display;\n",
       "        if (!display || display === 'none') {{\n",
       "            console.log([gd, 'removed!']);\n",
       "            Plotly.purge(gd);\n",
       "            observer.disconnect();\n",
       "        }}\n",
       "}});\n",
       "\n",
       "// Listen for the removal of the full notebook cells\n",
       "var notebookContainer = gd.closest('#notebook-container');\n",
       "if (notebookContainer) {{\n",
       "    x.observe(notebookContainer, {childList: true});\n",
       "}}\n",
       "\n",
       "// Listen for the clearing of the current output cell\n",
       "var outputEl = gd.closest('.output');\n",
       "if (outputEl) {{\n",
       "    x.observe(outputEl, {childList: true});\n",
       "}}\n",
       "\n",
       "                        })                };                });            </script>        </div>"
      ]
     },
     "metadata": {},
     "output_type": "display_data"
    }
   ],
   "source": [
    "hi = historical_interest([\"covid\", \"vacina\"], geo='BR',year_start=2022, month_start=1,\n",
    "                                day_start=10, hour_start=0, year_end=2022,\n",
    "                                month_end=1, day_end=17, hour_end=0)#,frequency='hourly')\n",
    "hi[[\"covid\", \"vacina\"]].plot()"
   ]
  },
  {
   "cell_type": "code",
   "execution_count": null,
   "metadata": {
    "pycharm": {
     "name": "#%%\n"
    }
   },
   "outputs": [],
   "source": []
  },
  {
   "cell_type": "code",
   "execution_count": null,
   "metadata": {
    "pycharm": {
     "name": "#%%\n"
    }
   },
   "outputs": [],
   "source": []
  }
 ],
 "metadata": {
  "hide_input": false,
  "interpreter": {
   "hash": "184170553db9360be88ff63651cbe1efde0af991b4df86807d4b259cf0f027c4"
  },
  "kernelspec": {
   "display_name": "Python 3 (ipykernel)",
   "language": "python",
   "name": "python3"
  },
  "language_info": {
   "codemirror_mode": {
    "name": "ipython",
    "version": 3
   },
   "file_extension": ".py",
   "mimetype": "text/x-python",
   "name": "python",
   "nbconvert_exporter": "python",
   "pygments_lexer": "ipython3",
   "version": "3.10.4"
  },
  "latex_envs": {
   "LaTeX_envs_menu_present": true,
   "autoclose": false,
   "autocomplete": true,
   "bibliofile": "biblio.bib",
   "cite_by": "apalike",
   "current_citInitial": 1,
   "eqLabelWithNumbers": true,
   "eqNumInitial": 1,
   "hotkeys": {
    "equation": "Ctrl-E",
    "itemize": "Ctrl-I"
   },
   "labels_anchors": false,
   "latex_user_defs": false,
   "report_style_numbering": false,
   "user_envs_cfg": false
  },
  "nbTranslate": {
   "displayLangs": [
    "*"
   ],
   "hotkey": "alt-t",
   "langInMainMenu": true,
   "sourceLang": "en",
   "targetLang": "fr",
   "useGoogleTranslate": true
  },
  "toc": {
   "base_numbering": 1,
   "nav_menu": {},
   "number_sections": true,
   "sideBar": true,
   "skip_h1_title": false,
   "title_cell": "Table of Contents",
   "title_sidebar": "Contents",
   "toc_cell": false,
   "toc_position": {},
   "toc_section_display": true,
   "toc_window_display": false
  },
  "varInspector": {
   "cols": {
    "lenName": 16,
    "lenType": 16,
    "lenVar": 40
   },
   "kernels_config": {
    "python": {
     "delete_cmd_postfix": "",
     "delete_cmd_prefix": "del ",
     "library": "var_list.py",
     "varRefreshCmd": "print(var_dic_list())"
    },
    "r": {
     "delete_cmd_postfix": ") ",
     "delete_cmd_prefix": "rm(",
     "library": "var_list.r",
     "varRefreshCmd": "cat(var_dic_list()) "
    }
   },
   "types_to_exclude": [
    "module",
    "function",
    "builtin_function_or_method",
    "instance",
    "_Feature"
   ],
   "window_display": false
  }
 },
 "nbformat": 4,
 "nbformat_minor": 2
}