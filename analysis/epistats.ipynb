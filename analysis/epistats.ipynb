{
 "cells": [
  {
   "cell_type": "markdown",
   "source": [
    "# Epidemiological Indicators\n",
    "In most epidemiological analyses we must start with simple measurements, or indicators about the raw data. In the `epigraphhub.epistats` module, some useful functions to calculate such indicators are provided."
   ],
   "metadata": {
    "collapsed": false
   }
  },
  {
   "cell_type": "code",
   "execution_count": 1,
   "outputs": [],
   "source": [
    "import pandas as pd\n",
    "from epigraphhub.analysis import epistats as es\n"
   ],
   "metadata": {
    "collapsed": false
   }
  },
  {
   "cell_type": "markdown",
   "source": [
    "## Calculating the posterior prevalence distribution\n",
    "The prevalence of a disease in a population can be modelled as a binomial random variable$Bin(n,p)$, where a fraction of the cases in the population is the parameter $p$ and the population size is the parameter $n$. If we have a prior guess about the proportion which we can represent as a Beta(a,b) distribution, we can the nobtain the posterior distribution of the prevalence as a Beta(a+cases, b+pop_size-cases).\n"
   ],
   "metadata": {
    "collapsed": false
   }
  },
  {
   "cell_type": "code",
   "execution_count": 5,
   "outputs": [
    {
     "data": {
      "text/plain": "0.010000979998040003"
     },
     "execution_count": 5,
     "metadata": {},
     "output_type": "execute_result"
    }
   ],
   "source": [
    "# Using a vague prior Beta(1,1)\n",
    "pdist = es.posterior_prevalence(pop_size=1e6,positives=10000,a=1,b=1)\n",
    "pdist.mean()"
   ],
   "metadata": {
    "collapsed": false
   }
  },
  {
   "cell_type": "code",
   "execution_count": 6,
   "outputs": [
    {
     "data": {
      "text/plain": "9.950342051571256e-05"
     },
     "execution_count": 6,
     "metadata": {},
     "output_type": "execute_result"
    }
   ],
   "source": [
    "pdist.std()\n"
   ],
   "metadata": {
    "collapsed": false
   }
  },
  {
   "cell_type": "markdown",
   "source": [
    "## Incidence rate\n",
    "incidence is defined as the number of new cases in a population over a period of time, typically 1 year. The incidence rate is also usually scale to 100k people to facilitate comparisons between localities with different populations.\n"
   ],
   "metadata": {
    "collapsed": false
   }
  },
  {
   "cell_type": "code",
   "execution_count": 13,
   "outputs": [
    {
     "data": {
      "text/plain": "   population  cases  incidence_ratio\n0        1000      5            500.0\n1        5000      5            100.0\n2       10000      5             50.0",
      "text/html": "<div>\n<style scoped>\n    .dataframe tbody tr th:only-of-type {\n        vertical-align: middle;\n    }\n\n    .dataframe tbody tr th {\n        vertical-align: top;\n    }\n\n    .dataframe thead th {\n        text-align: right;\n    }\n</style>\n<table border=\"1\" class=\"dataframe\">\n  <thead>\n    <tr style=\"text-align: right;\">\n      <th></th>\n      <th>population</th>\n      <th>cases</th>\n      <th>incidence_ratio</th>\n    </tr>\n  </thead>\n  <tbody>\n    <tr>\n      <th>0</th>\n      <td>1000</td>\n      <td>5</td>\n      <td>500.0</td>\n    </tr>\n    <tr>\n      <th>1</th>\n      <td>5000</td>\n      <td>5</td>\n      <td>100.0</td>\n    </tr>\n    <tr>\n      <th>2</th>\n      <td>10000</td>\n      <td>5</td>\n      <td>50.0</td>\n    </tr>\n  </tbody>\n</table>\n</div>"
     },
     "execution_count": 13,
     "metadata": {},
     "output_type": "execute_result"
    }
   ],
   "source": [
    "ir = es.incidence_rate([1000, 5000, 10000], [5, 5, 5])\n",
    "pd.DataFrame({'population': [1000, 5000, 10000],\n",
    "              'cases': [5, 5, 5],\n",
    "              'incidence_ratio': ir\n",
    "              })"
   ],
   "metadata": {
    "collapsed": false
   }
  },
  {
   "cell_type": "markdown",
   "source": [
    "## Relative Risk or Risk ratio\n",
    "Is the risk of contracting a disease given exposure to a risk factor. It is calculated from the results of a controlled experiment with Exposed and control groups.\n"
   ],
   "metadata": {
    "collapsed": false
   }
  },
  {
   "cell_type": "code",
   "execution_count": 16,
   "outputs": [
    {
     "data": {
      "text/plain": "RelativeRiskResult(relative_risk=2.4495156482861398, exposed_cases=27, exposed_total=122, control_cases=44, control_total=487)"
     },
     "execution_count": 16,
     "metadata": {},
     "output_type": "execute_result"
    }
   ],
   "source": [
    "result = es.risk_ratio(exposed_cases=27, exposed_total=122, control_cases=44, control_total=487)\n",
    "result"
   ],
   "metadata": {
    "collapsed": false
   }
  },
  {
   "cell_type": "code",
   "execution_count": 17,
   "outputs": [
    {
     "data": {
      "text/plain": "ConfidenceInterval(low=1.5836990926700116, high=3.7886786315466354)"
     },
     "execution_count": 17,
     "metadata": {},
     "output_type": "execute_result"
    }
   ],
   "source": [
    "result.confidence_interval(confidence_level=0.95)\n"
   ],
   "metadata": {
    "collapsed": false
   }
  },
  {
   "cell_type": "code",
   "execution_count": null,
   "outputs": [],
   "source": [],
   "metadata": {
    "collapsed": false
   }
  }
 ],
 "metadata": {
  "kernelspec": {
   "display_name": "Python 3",
   "language": "python",
   "name": "python3"
  },
  "language_info": {
   "codemirror_mode": {
    "name": "ipython",
    "version": 2
   },
   "file_extension": ".py",
   "mimetype": "text/x-python",
   "name": "python",
   "nbconvert_exporter": "python",
   "pygments_lexer": "ipython2",
   "version": "2.7.6"
  }
 },
 "nbformat": 4,
 "nbformat_minor": 0
}
